{
  "nbformat": 4,
  "nbformat_minor": 0,
  "metadata": {
    "colab": {
      "name": "OpenAI_Gym_Taxi-v2.ipynb",
      "provenance": [],
      "collapsed_sections": []
    },
    "kernelspec": {
      "name": "python3",
      "display_name": "Python 3"
    },
    "language_info": {
      "name": "python"
    }
  },
  "cells": [
    {
      "cell_type": "markdown",
      "metadata": {
        "id": "4fgZW7dalP2h"
      },
      "source": [
        "# OpenAI_Gym_Taxi-v2"
      ]
    },
    {
      "cell_type": "code",
      "metadata": {
        "id": "aSKUNM86lLIW"
      },
      "source": [
        "import numpy as np\n",
        "from collections import deque, defaultdict\n",
        "import random, sys, math, gym"
      ],
      "execution_count": null,
      "outputs": []
    },
    {
      "cell_type": "code",
      "metadata": {
        "id": "mhkIbZYDlWJm"
      },
      "source": [
        "class Agent:\n",
        "\n",
        "    def __init__(self, nA=6, epsilon=0.1, alpha=0.8, gamma=0.85, episode=1):\n",
        "        \"\"\" Initialize agent.\n",
        "\n",
        "        Params\n",
        "        ======\n",
        "        - nA: number of actions available to the agent\n",
        "        \n",
        "        epsilon=0.1, alpha=0.08, gamma=0.85 => 9.435\n",
        "        \"\"\"\n",
        "        self.nA = nA\n",
        "        self.Q = defaultdict(lambda: np.zeros(self.nA))\n",
        "        \n",
        "        self.epsilon = epsilon # Epsilon value, probability of taking on a random action in a epsilon-greedy policy (epsion = 0 means no randomness)\n",
        "        self.alpha = alpha # Alpha value, the Step Size\n",
        "        self.gamma = gamma # Gamma value, the Discount Rate, (gamma = 0 means only results from most immediate reward is being used)\n",
        "        self.episode = episode\n",
        "\n",
        "    def select_action(self, state, i_episode=0, num_episodes=0):\n",
        "        \"\"\" Given the state, select an action.\n",
        "\n",
        "        Params\n",
        "        ======\n",
        "        - state: the current state of the environment\n",
        "\n",
        "        Returns\n",
        "        =======\n",
        "        - action: an integer, compatible with the task's action space\n",
        "        \"\"\"\n",
        "        \n",
        "#         policy_state = ((np.ones(self.nA) * self.epsilon) / self.nA)\n",
        "#         greedy_Q = np.argmax(self.Q[state])\n",
        "#         policy_state[greedy_Q] = 1 - self.epsilon + (self.epsilon / self.nA)\n",
        "#         return np.random.choice(self.nA, p=policy_state)\n",
        "\n",
        "\n",
        "#         if i_episode != self.episode and i_episode % 2000 == 0:\n",
        "#             self.gamma -= 20/num_episodes\n",
        "#             self.alpha -= 20/num_episodes\n",
        "#             self.episode = i_episode\n",
        "#             print('  =>  ', 'gamma: ', self.gamma, 'alpha: ', self.alpha)\n",
        "    \n",
        "        # greedy policy\n",
        "        return np.argmax(self.Q[state])\n",
        "\n",
        "    def step(self, state, action, reward, next_state, done):\n",
        "        \"\"\" Update the agent's knowledge, using the most recently sampled tuple.\n",
        "\n",
        "        Params\n",
        "        ======\n",
        "        - state: the previous state of the environment\n",
        "        - action: the agent's previous choice of action\n",
        "        - reward: last reward received\n",
        "        - next_state: the current state of the environment\n",
        "        - done: whether the episode is complete (True or False)\n",
        "        \"\"\"\n",
        "#         next_action = self.select_action(next_state)\n",
        "#         goft = reward + (self.gamma * self.Q[next_state][next_action])\n",
        "#         self.Q[state][action] += self.alpha * (goft - self.Q[state][action])\n",
        "        # # next_action = np.argmax(self.Q[state])\n",
        "    \n",
        "        self.Q[state][action] = self.Q[state][action] + (self.alpha * (reward + (self.gamma * np.max(self.Q[next_state])) - self.Q[state][action]))\n",
        "        # self.Q[state][action] = (1 - self.alpha) * self.Q[state][action]  + self.alpha * (reward + self.gamma * np.max(self.Q[next_state]))"
      ],
      "execution_count": null,
      "outputs": []
    },
    {
      "cell_type": "code",
      "metadata": {
        "id": "cQnhxBzFlgl7"
      },
      "source": [
        "def interact(env, agent, num_episodes=20000, window=100):\n",
        "    # initialize average rewards\n",
        "    avg_rewards = deque(maxlen=num_episodes)\n",
        "    # initialize best average reward\n",
        "    best_avg_reward = -math.inf\n",
        "    # initialize monitor for most recent rewards\n",
        "    samp_rewards = deque(maxlen=window)\n",
        "    # for each episode\n",
        "    for i_episode in range(1, num_episodes+1):\n",
        "        # begin the episode\n",
        "        state = env.reset()\n",
        "        # initialize the sampled reward\n",
        "        samp_reward = 0\n",
        "        while True:\n",
        "            # agent selects an action\n",
        "            action = agent.select_action(state, i_episode, num_episodes)\n",
        "            # agent performs the selected action\n",
        "            next_state, reward, done, _ = env.step(action)\n",
        "            # agent performs internal updates based on sampled experience\n",
        "            agent.step(state, action, reward, next_state, done)\n",
        "            # update the sampled reward\n",
        "            samp_reward += reward\n",
        "            # update the state (s <- s') to next time step\n",
        "            state = next_state\n",
        "            if done:\n",
        "                # save final sampled reward\n",
        "                samp_rewards.append(samp_reward)\n",
        "                break\n",
        "        if (i_episode >= 100):\n",
        "            # get average reward from last 100 episodes\n",
        "            avg_reward = np.mean(samp_rewards)\n",
        "            # append to deque\n",
        "            avg_rewards.append(avg_reward)\n",
        "            # update best average reward\n",
        "            if avg_reward > best_avg_reward:\n",
        "                best_avg_reward = avg_reward\n",
        "        print(\"\\rEpisode {} , epsilon = {:.8f}, alpha = {:.5f}, gamma = {:.3f}|| Best average reward {:.3f}\".format(\n",
        "            i_episode, agent.epsilon, agent.alpha, agent.gamma, best_avg_reward), end=\"\")\n",
        "        sys.stdout.flush()\n",
        "        # check if task is solved (according to OpenAI Gym)\n",
        "        if best_avg_reward >= 9.7:\n",
        "            print('\\nEnvironment solved in {} episodes.'.format(i_episode), end=\"\")\n",
        "            break\n",
        "        if i_episode == num_episodes: print('\\n')\n",
        "    return avg_rewards, best_avg_reward"
      ],
      "execution_count": null,
      "outputs": []
    },
    {
      "cell_type": "code",
      "metadata": {
        "colab": {
          "base_uri": "https://localhost:8080/"
        },
        "id": "VFIiINPxljCc",
        "outputId": "ca0a130a-bed9-4768-e224-4f500cf9fe99"
      },
      "source": [
        "env = gym.make('Taxi-v3')\n",
        "agent = Agent()\n",
        "avg_rewards, best_avg_reward = interact(env, agent)"
      ],
      "execution_count": null,
      "outputs": [
        {
          "output_type": "stream",
          "name": "stdout",
          "text": [
            "Episode 20000 , epsilon = 0.10000000, alpha = 0.80000, gamma = 0.850|| Best average reward 8.640\n",
            "\n"
          ]
        }
      ]
    },
    {
      "cell_type": "code",
      "metadata": {
        "id": "UwJkQ7BRllGw"
      },
      "source": [
        ""
      ],
      "execution_count": null,
      "outputs": []
    }
  ]
}